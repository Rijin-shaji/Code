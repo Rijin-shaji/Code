{
  "nbformat": 4,
  "nbformat_minor": 0,
  "metadata": {
    "colab": {
      "provenance": [],
      "authorship_tag": "ABX9TyMl4Hq0byrlM0i7c1HDqPlb",
      "include_colab_link": true
    },
    "kernelspec": {
      "name": "python3",
      "display_name": "Python 3"
    },
    "language_info": {
      "name": "python"
    }
  },
  "cells": [
    {
      "cell_type": "markdown",
      "metadata": {
        "id": "view-in-github",
        "colab_type": "text"
      },
      "source": [
        "<a href=\"https://colab.research.google.com/github/Rijin-shaji/Code/blob/main/IF_Else.ipynb\" target=\"_parent\"><img src=\"https://colab.research.google.com/assets/colab-badge.svg\" alt=\"Open In Colab\"/></a>"
      ]
    },
    {
      "cell_type": "code",
      "execution_count": 3,
      "metadata": {
        "colab": {
          "base_uri": "https://localhost:8080/"
        },
        "id": "9lv5gFHDWwWf",
        "outputId": "b27730a3-29cd-4ba1-b5cb-f5617f163811"
      },
      "outputs": [
        {
          "output_type": "stream",
          "name": "stdout",
          "text": [
            "I can go for movie\n"
          ]
        }
      ],
      "source": [
        "movie_ticket = 90\n",
        "wallet = 100\n",
        "\n",
        "if (movie_ticket<=wallet):\n",
        "  print(\"I can go for movie\")\n",
        "else:\n",
        "  print(\"Nooooooo\")\n"
      ]
    }
  ]
}