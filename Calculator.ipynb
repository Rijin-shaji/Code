{
  "nbformat": 4,
  "nbformat_minor": 0,
  "metadata": {
    "colab": {
      "provenance": [],
      "authorship_tag": "ABX9TyMmVhMjgnxQMBkhB7UZh60K",
      "include_colab_link": true
    },
    "kernelspec": {
      "name": "python3",
      "display_name": "Python 3"
    },
    "language_info": {
      "name": "python"
    }
  },
  "cells": [
    {
      "cell_type": "markdown",
      "metadata": {
        "id": "view-in-github",
        "colab_type": "text"
      },
      "source": [
        "<a href=\"https://colab.research.google.com/github/Rijin-shaji/Code/blob/main/Calculator.ipynb\" target=\"_parent\"><img src=\"https://colab.research.google.com/assets/colab-badge.svg\" alt=\"Open In Colab\"/></a>"
      ]
    },
    {
      "cell_type": "code",
      "execution_count": 40,
      "metadata": {
        "colab": {
          "base_uri": "https://localhost:8080/"
        },
        "id": "_zsyx8fKisso",
        "outputId": "6cb7037a-d833-4d4d-d3db-905b9cc075e8"
      },
      "outputs": [
        {
          "output_type": "stream",
          "name": "stdout",
          "text": [
            "Enter first number : 10\n",
            "Enter second number : 11\n",
            "first number :  10\n",
            "Second number :  11\n",
            "1 . Addition\n",
            "2 . Substraction\n",
            "3 . Multiplication\n",
            "4 . Division\n",
            "Enter the operation number : 1\n",
            "Operation number  :  1\n",
            "Addition of these two numbers are :  21\n"
          ]
        }
      ],
      "source": [
        "def nummber():\n",
        " a=input(\"Enter first number : \")\n",
        " b=input(\"Enter second number : \")\n",
        " print(\"first number : \",a)\n",
        " print(\"Second number : \",b)\n",
        " return a,b\n",
        "\n",
        "\n",
        "\n",
        "\n",
        "def add(num1,num2):\n",
        "  sum=int(num1)+int(num2)\n",
        "  print(\"Addition of these two numbers are : \",sum)\n",
        "\n",
        "\n",
        "\n",
        "\n",
        "def sub(num1,num2):\n",
        "  sub=int(num1)-int(num2)\n",
        "  print(\"Substraction of these two numbers are : \",sub)\n",
        "\n",
        "\n",
        "\n",
        "\n",
        "def mul(num1,num2):\n",
        "  mul=int(num1)*int(num2)\n",
        "  print(\"Multiplication of these two numbers are : \",mul)\n",
        "\n",
        "\n",
        "\n",
        "def div(num1, num2):\n",
        "    if float(num2) == 0:\n",
        "        print(\"Error: Division by zero is not allowed.\")\n",
        "    else:\n",
        "        result = float(num1) / float(num2)\n",
        "        print(\"Division of these two numbers is:\", result)\n",
        "\n",
        "\n",
        "\n",
        "main1,main2=nummber()\n",
        "\n",
        "c =input(\"1 . Addition\\n\"\n",
        "        \"2 . Substraction\\n\"\n",
        "        \"3 . Multiplication\\n\"\n",
        "        \"4 . Division\\n\"\n",
        "        \"Enter the operation number : \")\n",
        "print(\"Operation number  : \",c)\n",
        "\n",
        "if(c==\"1\"):\n",
        "  add(main1,main2)\n",
        "elif(c==\"2\"):\n",
        "  sub(main1,main2)\n",
        "elif(c==\"3\"):\n",
        " mul(main1,main2)\n",
        "elif(c==\"4\"):\n",
        " div(main1,main2)\n",
        "else:\n",
        "  print(\"Invalid input\")\n",
        "\n",
        "\n"
      ]
    }
  ]
}