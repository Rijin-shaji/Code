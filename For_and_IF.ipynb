{
  "nbformat": 4,
  "nbformat_minor": 0,
  "metadata": {
    "colab": {
      "provenance": [],
      "authorship_tag": "ABX9TyPS2+6DNgesC0DrxO7AV20U",
      "include_colab_link": true
    },
    "kernelspec": {
      "name": "python3",
      "display_name": "Python 3"
    },
    "language_info": {
      "name": "python"
    }
  },
  "cells": [
    {
      "cell_type": "markdown",
      "metadata": {
        "id": "view-in-github",
        "colab_type": "text"
      },
      "source": [
        "<a href=\"https://colab.research.google.com/github/Rijin-shaji/Code/blob/main/For_and_IF.ipynb\" target=\"_parent\"><img src=\"https://colab.research.google.com/assets/colab-badge.svg\" alt=\"Open In Colab\"/></a>"
      ]
    },
    {
      "cell_type": "markdown",
      "source": [
        "1 .Even Number Counter"
      ],
      "metadata": {
        "id": "1MWH6WJS3b16"
      }
    },
    {
      "cell_type": "code",
      "source": [
        "for i in range (1,100):\n",
        "   if(i%2)==0:\n",
        "     print(\"Even Number\",i)\n",
        "   else:\n",
        "     print(\"Odd Number\",i)\n",
        "\n",
        ""
      ],
      "metadata": {
        "colab": {
          "base_uri": "https://localhost:8080/"
        },
        "id": "hR2bcZhI3ajI",
        "outputId": "ae78bc07-cea3-4cf0-e18f-1f70812a5abc"
      },
      "execution_count": 2,
      "outputs": [
        {
          "output_type": "stream",
          "name": "stdout",
          "text": [
            "Odd Number 1\n",
            "Even Number 2\n",
            "Odd Number 3\n",
            "Even Number 4\n",
            "Odd Number 5\n",
            "Even Number 6\n",
            "Odd Number 7\n",
            "Even Number 8\n",
            "Odd Number 9\n",
            "Even Number 10\n",
            "Odd Number 11\n",
            "Even Number 12\n",
            "Odd Number 13\n",
            "Even Number 14\n",
            "Odd Number 15\n",
            "Even Number 16\n",
            "Odd Number 17\n",
            "Even Number 18\n",
            "Odd Number 19\n",
            "Even Number 20\n",
            "Odd Number 21\n",
            "Even Number 22\n",
            "Odd Number 23\n",
            "Even Number 24\n",
            "Odd Number 25\n",
            "Even Number 26\n",
            "Odd Number 27\n",
            "Even Number 28\n",
            "Odd Number 29\n",
            "Even Number 30\n",
            "Odd Number 31\n",
            "Even Number 32\n",
            "Odd Number 33\n",
            "Even Number 34\n",
            "Odd Number 35\n",
            "Even Number 36\n",
            "Odd Number 37\n",
            "Even Number 38\n",
            "Odd Number 39\n",
            "Even Number 40\n",
            "Odd Number 41\n",
            "Even Number 42\n",
            "Odd Number 43\n",
            "Even Number 44\n",
            "Odd Number 45\n",
            "Even Number 46\n",
            "Odd Number 47\n",
            "Even Number 48\n",
            "Odd Number 49\n",
            "Even Number 50\n",
            "Odd Number 51\n",
            "Even Number 52\n",
            "Odd Number 53\n",
            "Even Number 54\n",
            "Odd Number 55\n",
            "Even Number 56\n",
            "Odd Number 57\n",
            "Even Number 58\n",
            "Odd Number 59\n",
            "Even Number 60\n",
            "Odd Number 61\n",
            "Even Number 62\n",
            "Odd Number 63\n",
            "Even Number 64\n",
            "Odd Number 65\n",
            "Even Number 66\n",
            "Odd Number 67\n",
            "Even Number 68\n",
            "Odd Number 69\n",
            "Even Number 70\n",
            "Odd Number 71\n",
            "Even Number 72\n",
            "Odd Number 73\n",
            "Even Number 74\n",
            "Odd Number 75\n",
            "Even Number 76\n",
            "Odd Number 77\n",
            "Even Number 78\n",
            "Odd Number 79\n",
            "Even Number 80\n",
            "Odd Number 81\n",
            "Even Number 82\n",
            "Odd Number 83\n",
            "Even Number 84\n",
            "Odd Number 85\n",
            "Even Number 86\n",
            "Odd Number 87\n",
            "Even Number 88\n",
            "Odd Number 89\n",
            "Even Number 90\n",
            "Odd Number 91\n",
            "Even Number 92\n",
            "Odd Number 93\n",
            "Even Number 94\n",
            "Odd Number 95\n",
            "Even Number 96\n",
            "Odd Number 97\n",
            "Even Number 98\n",
            "Odd Number 99\n"
          ]
        }
      ]
    },
    {
      "cell_type": "code",
      "source": [],
      "metadata": {
        "id": "oVWPlHoQ51aN"
      },
      "execution_count": null,
      "outputs": []
    },
    {
      "cell_type": "markdown",
      "source": [
        "2 .Positive Number Listing"
      ],
      "metadata": {
        "id": "HdJDPg6l4bGd"
      }
    },
    {
      "cell_type": "code",
      "source": [
        "for i in range (-5,10):\n",
        "  if(i>=0):\n",
        "    print(\"Positive Number\",i)\n",
        "  else:\n",
        "    print(\"Negative Number \",i)\n"
      ],
      "metadata": {
        "colab": {
          "base_uri": "https://localhost:8080/"
        },
        "id": "XNW1i5R23agf",
        "outputId": "04c3c17c-0afc-4e44-ada7-95332c5b8fa8"
      },
      "execution_count": 6,
      "outputs": [
        {
          "output_type": "stream",
          "name": "stdout",
          "text": [
            "Negative Number  -5\n",
            "Negative Number  -4\n",
            "Negative Number  -3\n",
            "Negative Number  -2\n",
            "Negative Number  -1\n",
            "Positive Number 0\n",
            "Positive Number 1\n",
            "Positive Number 2\n",
            "Positive Number 3\n",
            "Positive Number 4\n",
            "Positive Number 5\n",
            "Positive Number 6\n",
            "Positive Number 7\n",
            "Positive Number 8\n",
            "Positive Number 9\n"
          ]
        }
      ]
    },
    {
      "cell_type": "markdown",
      "source": [
        "3 .String Length Filter"
      ],
      "metadata": {
        "id": "EEsi2NzZ5-E0"
      }
    },
    {
      "cell_type": "code",
      "source": [
        "s =[\"keyboard\",\"mouse\",\"monitor\",\"Cpu\",\"Laptop\"]\n",
        "for word in s:\n",
        "  if (len(word))>=5:\n",
        "    print(f\"{word} has 5 more than characters\")\n",
        "  else:\n",
        "    print(f\"{word} does not have more than 5 characters\")"
      ],
      "metadata": {
        "colab": {
          "base_uri": "https://localhost:8080/"
        },
        "id": "R90dTy-Y3ad2",
        "outputId": "7344de17-dfb6-4ed8-c41b-9fe6cb265c77"
      },
      "execution_count": 15,
      "outputs": [
        {
          "output_type": "stream",
          "name": "stdout",
          "text": [
            "keyboard has 5 more than characters\n",
            "mouse has 5 more than characters\n",
            "monitor has 5 more than characters\n",
            "Cpu does not have more than 5 characters\n",
            "Laptop has 5 more than characters\n"
          ]
        }
      ]
    },
    {
      "cell_type": "markdown",
      "source": [
        "4 .Prime number Checker"
      ],
      "metadata": {
        "id": "NhX4ArFx8p0D"
      }
    },
    {
      "cell_type": "code",
      "source": [
        "for i in range(1, 201):\n",
        "  if i > 1:\n",
        "    is_prime = True\n",
        "\n",
        "    for num in range(2, i):\n",
        "      if (i % num) == 0:\n",
        "        is_prime = False\n",
        "        break\n",
        "    if is_prime:\n",
        "      print(\"Prime Number:\", i)\n",
        "    else:\n",
        "      print(\"Not Prime Number:\", i)\n",
        "  else:\n",
        "    print(\"Not Prime Number:\", i)"
      ],
      "metadata": {
        "colab": {
          "base_uri": "https://localhost:8080/"
        },
        "id": "GCgj3mBR3abG",
        "outputId": "6c87440b-d9cc-45eb-fd25-bdcaeee03797"
      },
      "execution_count": 23,
      "outputs": [
        {
          "output_type": "stream",
          "name": "stdout",
          "text": [
            "Not Prime Number: 1\n",
            "Prime Number: 2\n",
            "Prime Number: 3\n",
            "Not Prime Number: 4\n",
            "Prime Number: 5\n",
            "Not Prime Number: 6\n",
            "Prime Number: 7\n",
            "Not Prime Number: 8\n",
            "Not Prime Number: 9\n",
            "Not Prime Number: 10\n",
            "Prime Number: 11\n",
            "Not Prime Number: 12\n",
            "Prime Number: 13\n",
            "Not Prime Number: 14\n",
            "Not Prime Number: 15\n",
            "Not Prime Number: 16\n",
            "Prime Number: 17\n",
            "Not Prime Number: 18\n",
            "Prime Number: 19\n",
            "Not Prime Number: 20\n",
            "Not Prime Number: 21\n",
            "Not Prime Number: 22\n",
            "Prime Number: 23\n",
            "Not Prime Number: 24\n",
            "Not Prime Number: 25\n",
            "Not Prime Number: 26\n",
            "Not Prime Number: 27\n",
            "Not Prime Number: 28\n",
            "Prime Number: 29\n",
            "Not Prime Number: 30\n",
            "Prime Number: 31\n",
            "Not Prime Number: 32\n",
            "Not Prime Number: 33\n",
            "Not Prime Number: 34\n",
            "Not Prime Number: 35\n",
            "Not Prime Number: 36\n",
            "Prime Number: 37\n",
            "Not Prime Number: 38\n",
            "Not Prime Number: 39\n",
            "Not Prime Number: 40\n",
            "Prime Number: 41\n",
            "Not Prime Number: 42\n",
            "Prime Number: 43\n",
            "Not Prime Number: 44\n",
            "Not Prime Number: 45\n",
            "Not Prime Number: 46\n",
            "Prime Number: 47\n",
            "Not Prime Number: 48\n",
            "Not Prime Number: 49\n",
            "Not Prime Number: 50\n",
            "Not Prime Number: 51\n",
            "Not Prime Number: 52\n",
            "Prime Number: 53\n",
            "Not Prime Number: 54\n",
            "Not Prime Number: 55\n",
            "Not Prime Number: 56\n",
            "Not Prime Number: 57\n",
            "Not Prime Number: 58\n",
            "Prime Number: 59\n",
            "Not Prime Number: 60\n",
            "Prime Number: 61\n",
            "Not Prime Number: 62\n",
            "Not Prime Number: 63\n",
            "Not Prime Number: 64\n",
            "Not Prime Number: 65\n",
            "Not Prime Number: 66\n",
            "Prime Number: 67\n",
            "Not Prime Number: 68\n",
            "Not Prime Number: 69\n",
            "Not Prime Number: 70\n",
            "Prime Number: 71\n",
            "Not Prime Number: 72\n",
            "Prime Number: 73\n",
            "Not Prime Number: 74\n",
            "Not Prime Number: 75\n",
            "Not Prime Number: 76\n",
            "Not Prime Number: 77\n",
            "Not Prime Number: 78\n",
            "Prime Number: 79\n",
            "Not Prime Number: 80\n",
            "Not Prime Number: 81\n",
            "Not Prime Number: 82\n",
            "Prime Number: 83\n",
            "Not Prime Number: 84\n",
            "Not Prime Number: 85\n",
            "Not Prime Number: 86\n",
            "Not Prime Number: 87\n",
            "Not Prime Number: 88\n",
            "Prime Number: 89\n",
            "Not Prime Number: 90\n",
            "Not Prime Number: 91\n",
            "Not Prime Number: 92\n",
            "Not Prime Number: 93\n",
            "Not Prime Number: 94\n",
            "Not Prime Number: 95\n",
            "Not Prime Number: 96\n",
            "Prime Number: 97\n",
            "Not Prime Number: 98\n",
            "Not Prime Number: 99\n",
            "Not Prime Number: 100\n",
            "Prime Number: 101\n",
            "Not Prime Number: 102\n",
            "Prime Number: 103\n",
            "Not Prime Number: 104\n",
            "Not Prime Number: 105\n",
            "Not Prime Number: 106\n",
            "Prime Number: 107\n",
            "Not Prime Number: 108\n",
            "Prime Number: 109\n",
            "Not Prime Number: 110\n",
            "Not Prime Number: 111\n",
            "Not Prime Number: 112\n",
            "Prime Number: 113\n",
            "Not Prime Number: 114\n",
            "Not Prime Number: 115\n",
            "Not Prime Number: 116\n",
            "Not Prime Number: 117\n",
            "Not Prime Number: 118\n",
            "Not Prime Number: 119\n",
            "Not Prime Number: 120\n",
            "Not Prime Number: 121\n",
            "Not Prime Number: 122\n",
            "Not Prime Number: 123\n",
            "Not Prime Number: 124\n",
            "Not Prime Number: 125\n",
            "Not Prime Number: 126\n",
            "Prime Number: 127\n",
            "Not Prime Number: 128\n",
            "Not Prime Number: 129\n",
            "Not Prime Number: 130\n",
            "Prime Number: 131\n",
            "Not Prime Number: 132\n",
            "Not Prime Number: 133\n",
            "Not Prime Number: 134\n",
            "Not Prime Number: 135\n",
            "Not Prime Number: 136\n",
            "Prime Number: 137\n",
            "Not Prime Number: 138\n",
            "Prime Number: 139\n",
            "Not Prime Number: 140\n",
            "Not Prime Number: 141\n",
            "Not Prime Number: 142\n",
            "Not Prime Number: 143\n",
            "Not Prime Number: 144\n",
            "Not Prime Number: 145\n",
            "Not Prime Number: 146\n",
            "Not Prime Number: 147\n",
            "Not Prime Number: 148\n",
            "Prime Number: 149\n",
            "Not Prime Number: 150\n",
            "Prime Number: 151\n",
            "Not Prime Number: 152\n",
            "Not Prime Number: 153\n",
            "Not Prime Number: 154\n",
            "Not Prime Number: 155\n",
            "Not Prime Number: 156\n",
            "Prime Number: 157\n",
            "Not Prime Number: 158\n",
            "Not Prime Number: 159\n",
            "Not Prime Number: 160\n",
            "Not Prime Number: 161\n",
            "Not Prime Number: 162\n",
            "Prime Number: 163\n",
            "Not Prime Number: 164\n",
            "Not Prime Number: 165\n",
            "Not Prime Number: 166\n",
            "Prime Number: 167\n",
            "Not Prime Number: 168\n",
            "Not Prime Number: 169\n",
            "Not Prime Number: 170\n",
            "Not Prime Number: 171\n",
            "Not Prime Number: 172\n",
            "Prime Number: 173\n",
            "Not Prime Number: 174\n",
            "Not Prime Number: 175\n",
            "Not Prime Number: 176\n",
            "Not Prime Number: 177\n",
            "Not Prime Number: 178\n",
            "Prime Number: 179\n",
            "Not Prime Number: 180\n",
            "Prime Number: 181\n",
            "Not Prime Number: 182\n",
            "Not Prime Number: 183\n",
            "Not Prime Number: 184\n",
            "Not Prime Number: 185\n",
            "Not Prime Number: 186\n",
            "Not Prime Number: 187\n",
            "Not Prime Number: 188\n",
            "Not Prime Number: 189\n",
            "Not Prime Number: 190\n",
            "Prime Number: 191\n",
            "Not Prime Number: 192\n",
            "Prime Number: 193\n",
            "Not Prime Number: 194\n",
            "Not Prime Number: 195\n",
            "Not Prime Number: 196\n",
            "Prime Number: 197\n",
            "Not Prime Number: 198\n",
            "Prime Number: 199\n",
            "Not Prime Number: 200\n"
          ]
        }
      ]
    },
    {
      "cell_type": "markdown",
      "source": [
        "List element and print it's index"
      ],
      "metadata": {
        "id": "8bSBtpKMGr3s"
      }
    },
    {
      "cell_type": "code",
      "source": [
        "s=[10,20,30,40,50,60,70,80,90,100]\n",
        "target_value=50\n",
        "for i in s:\n",
        "  if(target_value==i):\n",
        "    print(s.index(i))\n",
        "  else:\n",
        "    print(\"Nothing\")\n",
        "\n"
      ],
      "metadata": {
        "colab": {
          "base_uri": "https://localhost:8080/"
        },
        "id": "Tl4ZCxow3aYt",
        "outputId": "58d226b5-372f-4c9d-8635-bdc2ccf84e6f"
      },
      "execution_count": 24,
      "outputs": [
        {
          "output_type": "stream",
          "name": "stdout",
          "text": [
            "Nothing\n",
            "Nothing\n",
            "Nothing\n",
            "Nothing\n",
            "4\n",
            "Nothing\n",
            "Nothing\n",
            "Nothing\n",
            "Nothing\n",
            "Nothing\n"
          ]
        }
      ]
    },
    {
      "cell_type": "markdown",
      "source": [
        "Count vowels in a string"
      ],
      "metadata": {
        "id": "39eueKo7H2o1"
      }
    },
    {
      "cell_type": "code",
      "source": [],
      "metadata": {
        "id": "czhESZKB3aWe"
      },
      "execution_count": 36,
      "outputs": []
    },
    {
      "cell_type": "code",
      "source": [],
      "metadata": {
        "id": "KJRpy2i_3aTi"
      },
      "execution_count": null,
      "outputs": []
    },
    {
      "cell_type": "code",
      "source": [],
      "metadata": {
        "id": "JGKVtHLW3aRQ"
      },
      "execution_count": null,
      "outputs": []
    },
    {
      "cell_type": "code",
      "source": [],
      "metadata": {
        "id": "mfiVEV593aN1"
      },
      "execution_count": null,
      "outputs": []
    },
    {
      "cell_type": "code",
      "source": [],
      "metadata": {
        "id": "dxCqV7yv3aEk"
      },
      "execution_count": null,
      "outputs": []
    }
  ]
}