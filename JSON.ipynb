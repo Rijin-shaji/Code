{
  "nbformat": 4,
  "nbformat_minor": 0,
  "metadata": {
    "colab": {
      "provenance": [],
      "authorship_tag": "ABX9TyPUY3h6g4Mr37Dqlw/uRIW6",
      "include_colab_link": true
    },
    "kernelspec": {
      "name": "python3",
      "display_name": "Python 3"
    },
    "language_info": {
      "name": "python"
    }
  },
  "cells": [
    {
      "cell_type": "markdown",
      "metadata": {
        "id": "view-in-github",
        "colab_type": "text"
      },
      "source": [
        "<a href=\"https://colab.research.google.com/github/Rijin-shaji/Code/blob/main/JSON.ipynb\" target=\"_parent\"><img src=\"https://colab.research.google.com/assets/colab-badge.svg\" alt=\"Open In Colab\"/></a>"
      ]
    },
    {
      "cell_type": "code",
      "execution_count": 2,
      "metadata": {
        "colab": {
          "base_uri": "https://localhost:8080/"
        },
        "id": "Z8OSYnRVd33b",
        "outputId": "762735ca-bf26-419c-ae6e-8be989091487"
      },
      "outputs": [
        {
          "output_type": "stream",
          "name": "stdout",
          "text": [
            "Player.json file created \n",
            "[{'id': 1, 'name': 'Lionel Messi', 'club': 'Inter Miami', 'position': 'Forward'}, {'id': 2, 'name': 'Cristiano Ronaldo', 'club': 'Al Nassr', 'position': 'Forward'}]\n"
          ]
        }
      ],
      "source": [
        "import json\n",
        "\n",
        "player=[\n",
        "    {\n",
        "        \"id\": 1,\n",
        "        \"name\": \"Lionel Messi\",\n",
        "        \"club\": \"Inter Miami\",\n",
        "        \"position\": \"Forward\"\n",
        "    },\n",
        "    {\n",
        "        \"id\": 2,\n",
        "        \"name\": \"Cristiano Ronaldo\",\n",
        "        \"club\": \"Al Nassr\",\n",
        "        \"position\": \"Forward\"\n",
        "    }\n",
        "]\n",
        "\n",
        "with open(\"player.json\",\"w\") as f:\n",
        "    json.dump(player,f,indent=4)\n",
        "\n",
        "print(\"Player.json file created \")\n",
        "\n",
        "with open(\"player.json\",\"r\") as f:\n",
        "  data=json.load(f)\n",
        "  print(data)"
      ]
    }
  ]
}