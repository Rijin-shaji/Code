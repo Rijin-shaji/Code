{
  "nbformat": 4,
  "nbformat_minor": 0,
  "metadata": {
    "colab": {
      "provenance": [],
      "authorship_tag": "ABX9TyMCzFktZGkFhXt8FrkkO6cx",
      "include_colab_link": true
    },
    "kernelspec": {
      "name": "python3",
      "display_name": "Python 3"
    },
    "language_info": {
      "name": "python"
    }
  },
  "cells": [
    {
      "cell_type": "markdown",
      "metadata": {
        "id": "view-in-github",
        "colab_type": "text"
      },
      "source": [
        "<a href=\"https://colab.research.google.com/github/Rijin-shaji/Code/blob/main/IF_elif_Else_.ipynb\" target=\"_parent\"><img src=\"https://colab.research.google.com/assets/colab-badge.svg\" alt=\"Open In Colab\"/></a>"
      ]
    },
    {
      "cell_type": "code",
      "execution_count": 4,
      "metadata": {
        "colab": {
          "base_uri": "https://localhost:8080/"
        },
        "id": "9lv5gFHDWwWf",
        "outputId": "1dbde833-da99-48e5-f7b5-8dd5eec42269"
      },
      "outputs": [
        {
          "output_type": "stream",
          "name": "stdout",
          "text": [
            "A\n"
          ]
        }
      ],
      "source": [
        "mark = 85\n",
        "\n",
        "if(mark>=90):\n",
        "  print(\"A+\")\n",
        "elif(mark>=80):\n",
        "  print(\"A\")\n",
        "elif(mark>=70):\n",
        "  print(\"B+\")\n",
        "elif(mark>=60):\n",
        "  print(\"B\")\n",
        "else:\n",
        "  print(\"Fail\")\n",
        "\n"
      ]
    }
  ]
}