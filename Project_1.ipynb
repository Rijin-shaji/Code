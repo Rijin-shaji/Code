{
  "nbformat": 4,
  "nbformat_minor": 0,
  "metadata": {
    "colab": {
      "provenance": [],
      "authorship_tag": "ABX9TyPX/TSjuXR2sNclqSZLDWrp",
      "include_colab_link": true
    },
    "kernelspec": {
      "name": "python3",
      "display_name": "Python 3"
    },
    "language_info": {
      "name": "python"
    }
  },
  "cells": [
    {
      "cell_type": "markdown",
      "metadata": {
        "id": "view-in-github",
        "colab_type": "text"
      },
      "source": [
        "<a href=\"https://colab.research.google.com/github/Rijin-shaji/Code/blob/main/Project_1.ipynb\" target=\"_parent\"><img src=\"https://colab.research.google.com/assets/colab-badge.svg\" alt=\"Open In Colab\"/></a>"
      ]
    },
    {
      "cell_type": "markdown",
      "source": [
        "# Project **1**"
      ],
      "metadata": {
        "id": "xEwoizKlu3FQ"
      }
    },
    {
      "cell_type": "code",
      "source": [
        "completed_tasks=[]\n",
        "incomplete_tasks=[]\n",
        "lists=[\"Exercise\",\"Preparing breakfast\",\"Sending Mail\",\"Finish Report\",\"walk 5km\"]\n",
        "for i in lists:\n",
        "  while True:\n",
        "    completion_status = input(\"Is this Task completed (yes/No) %s : \"% i)\n",
        "    if completion_status in ['yes', 'no']:\n",
        "      break\n",
        "    else:\n",
        "      print(\"Invalid input. Please enter 'yes' or 'no'.\")\n",
        "\n",
        "  if completion_status == 'yes':\n",
        "    completed_tasks.append(i)\n",
        "  else:\n",
        "    incomplete_tasks.append(i)\n",
        "\n",
        "print(\"Completed Tasks\", completed_tasks)\n",
        "print(\"Incomplete Tasks\", incomplete_tasks)"
      ],
      "metadata": {
        "id": "F1s1whMBuzt4"
      },
      "execution_count": null,
      "outputs": []
    }
  ]
}