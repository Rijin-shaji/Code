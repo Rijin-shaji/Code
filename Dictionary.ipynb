{
  "nbformat": 4,
  "nbformat_minor": 0,
  "metadata": {
    "colab": {
      "provenance": [],
      "authorship_tag": "ABX9TyP2VQmmpquG1CEx1IVHuG6y",
      "include_colab_link": true
    },
    "kernelspec": {
      "name": "python3",
      "display_name": "Python 3"
    },
    "language_info": {
      "name": "python"
    }
  },
  "cells": [
    {
      "cell_type": "markdown",
      "metadata": {
        "id": "view-in-github",
        "colab_type": "text"
      },
      "source": [
        "<a href=\"https://colab.research.google.com/github/Rijin-shaji/Code/blob/main/Dictionary.ipynb\" target=\"_parent\"><img src=\"https://colab.research.google.com/assets/colab-badge.svg\" alt=\"Open In Colab\"/></a>"
      ]
    },
    {
      "cell_type": "code",
      "execution_count": 13,
      "metadata": {
        "colab": {
          "base_uri": "https://localhost:8080/"
        },
        "id": "TcZsd3Bmb7WH",
        "outputId": "854c4a7f-0c1a-4676-9e69-13fad0a49700"
      },
      "outputs": [
        {
          "output_type": "stream",
          "name": "stdout",
          "text": [
            "Most Repitative Element in the List is :  2\n"
          ]
        }
      ],
      "source": [
        "L1=[1,2,2,3,2,3,4,5]\n",
        "num_counter={}\n",
        "\n",
        "for i in L1:\n",
        "  if i in num_counter:\n",
        "    num_counter[i]+=1\n",
        "  else:\n",
        "    num_counter[i]=1\n",
        "\n",
        "temp=0\n",
        "Final_value=0\n",
        "for k,v in num_counter.items():\n",
        "  if v>temp:\n",
        "   temp=v\n",
        "   Final_value=k\n",
        "print(\"Most Repitative Element in the List is : \",Final_value)\n",
        "\n"
      ]
    }
  ]
}