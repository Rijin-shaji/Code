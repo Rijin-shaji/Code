{
  "nbformat": 4,
  "nbformat_minor": 0,
  "metadata": {
    "colab": {
      "provenance": [],
      "authorship_tag": "ABX9TyNaicP5DdsAfUt8o/SidGwp",
      "include_colab_link": true
    },
    "kernelspec": {
      "name": "python3",
      "display_name": "Python 3"
    },
    "language_info": {
      "name": "python"
    }
  },
  "cells": [
    {
      "cell_type": "markdown",
      "metadata": {
        "id": "view-in-github",
        "colab_type": "text"
      },
      "source": [
        "<a href=\"https://colab.research.google.com/github/Rijin-shaji/Code/blob/main/Project_2.ipynb\" target=\"_parent\"><img src=\"https://colab.research.google.com/assets/colab-badge.svg\" alt=\"Open In Colab\"/></a>"
      ]
    },
    {
      "cell_type": "markdown",
      "source": [
        "Grocery Shopping List Manager\n",
        "At the start of the week, you make a list of items you want to buy.\n",
        "After shopping, mark the items you’ve bought.\n",
        "\n",
        "Move bought items to a purchased_items list.\n",
        "\n",
        "Remaining items stay in the pending_items list.\n",
        "\n",
        "At the end, show both lists."
      ],
      "metadata": {
        "id": "ahM06l9hb6bN"
      }
    },
    {
      "cell_type": "code",
      "execution_count": 9,
      "metadata": {
        "colab": {
          "base_uri": "https://localhost:8080/"
        },
        "id": "-MTPgWf4YoQ_",
        "outputId": "f211bfd1-b3f9-4385-f1aa-d0e0cb226a9f"
      },
      "outputs": [
        {
          "output_type": "stream",
          "name": "stdout",
          "text": [
            "Did you purchase vegetables yes or no :Yes\n",
            "Did you purchase fruits yes or no :YES\n",
            "Did you purchase soft drinks yes or no :NO\n",
            "Did you purchase books yes or no :NO\n",
            "Did you purchase sweets yes or no :NO\n",
            "['vegetables', 'fruits']\n",
            "['soft drinks', 'books', 'sweets']\n"
          ]
        }
      ],
      "source": [
        "items=[\"vegetables\",\"fruits\",\"soft drinks\",\"books\",\"sweets\"]\n",
        "purchased_items=[]\n",
        "pending_items=[]\n",
        "for item in items:\n",
        "  while True:\n",
        "   user_data=input(f\"Did you purchase {item} yes or no :\").lower()\n",
        "   if user_data==\"yes\" or user_data==\"no\":\n",
        "    break\n",
        "  else:\n",
        "    print(\" Enter yes or no\")\n",
        "  if  user_data ==\"yes\":\n",
        "    purchased_items.append(item)\n",
        "  else:\n",
        "    pending_items.append(item)\n",
        "print(purchased_items)\n",
        "print(pending_items)\n",
        "\n",
        ""
      ]
    },
    {
      "cell_type": "code",
      "source": [],
      "metadata": {
        "id": "pT15Vg6ZbzEU"
      },
      "execution_count": null,
      "outputs": []
    }
  ]
}