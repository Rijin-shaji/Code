{
  "nbformat": 4,
  "nbformat_minor": 0,
  "metadata": {
    "colab": {
      "provenance": [],
      "authorship_tag": "ABX9TyPJm+xX9yn+skr3I+YBrvtp",
      "include_colab_link": true
    },
    "kernelspec": {
      "name": "python3",
      "display_name": "Python 3"
    },
    "language_info": {
      "name": "python"
    }
  },
  "cells": [
    {
      "cell_type": "markdown",
      "metadata": {
        "id": "view-in-github",
        "colab_type": "text"
      },
      "source": [
        "<a href=\"https://colab.research.google.com/github/Rijin-shaji/Code/blob/main/Basic_Level_works.ipynb\" target=\"_parent\"><img src=\"https://colab.research.google.com/assets/colab-badge.svg\" alt=\"Open In Colab\"/></a>"
      ]
    },
    {
      "cell_type": "markdown",
      "source": [
        "1 .Write a Python program to find the average numbers."
      ],
      "metadata": {
        "id": "hN2BMlBfEqsI"
      }
    },
    {
      "cell_type": "code",
      "execution_count": null,
      "metadata": {
        "colab": {
          "base_uri": "https://localhost:8080/"
        },
        "id": "FC2kjA8zEk22",
        "outputId": "24e824ea-9e49-4c7b-8705-c7995f0eacac"
      },
      "outputs": [
        {
          "output_type": "stream",
          "name": "stdout",
          "text": [
            "Enter 3 munber . Separate it with , 10,10,10\n",
            "Entered Values are :  10,10,10\n",
            "Average :  10.0\n"
          ]
        }
      ],
      "source": [
        "n=input(\"Enter the numbers . Separate it with , \")\n",
        "print(\"Entered Values are : \",n)\n",
        "number=[int(num) for num in n.split(\",\")]\n",
        "add=sum(number)\n",
        "Average=add/len(number)\n",
        "print(\"Average : \",Average)"
      ]
    },
    {
      "cell_type": "markdown",
      "source": [
        "2 .Write a Python program to find the average of three numbers."
      ],
      "metadata": {
        "id": "IdIUwKIvG963"
      }
    },
    {
      "cell_type": "code",
      "source": [
        "n=input(\"Enter 3 munber . Separate with ,  : \")\n",
        "print(\"Entered Values are : \",n)\n",
        "number=[int(i)for i in n.split(\",\")]\n",
        "add=sum(number)\n",
        "if len(number)==3:\n",
        " Average=add/3\n",
        " print(\"Average : \",Average)\n",
        "else:\n",
        " print(\"******ERROR******\")"
      ],
      "metadata": {
        "colab": {
          "base_uri": "https://localhost:8080/"
        },
        "id": "cr25w05XHES3",
        "outputId": "908bde93-4e66-4f42-8db1-5d027c15a31c"
      },
      "execution_count": null,
      "outputs": [
        {
          "output_type": "stream",
          "name": "stdout",
          "text": [
            "Enter 3 munber . Separate with ,  : 10,10,10,10\n",
            "Entered Values are :  10,10,10,10\n",
            "******ERROR******\n"
          ]
        }
      ]
    },
    {
      "cell_type": "markdown",
      "source": [
        "3 .Write a Python program to check whether a number is even or odd."
      ],
      "metadata": {
        "id": "8VmqDXIfKGiB"
      }
    },
    {
      "cell_type": "code",
      "source": [
        "num=input(\"Enter the number that You want to check : \")\n",
        "print(\"Number you Entered : \",num)\n",
        "if int(num)%2==0:\n",
        " print(\"The number is Even\")\n",
        "else:\n",
        "  print(\"The number is Odd\")\n"
      ],
      "metadata": {
        "colab": {
          "base_uri": "https://localhost:8080/"
        },
        "id": "NPvGWbLBKOFC",
        "outputId": "769e311d-4978-49b3-c409-462203724072"
      },
      "execution_count": null,
      "outputs": [
        {
          "output_type": "stream",
          "name": "stdout",
          "text": [
            "Enter the number that You want to check : 5\n",
            "Number you Entered :  5\n",
            "The number is Odd\n"
          ]
        }
      ]
    },
    {
      "cell_type": "markdown",
      "source": [
        "4 .Find the sum of all numbers from 1 to n (inclusive)."
      ],
      "metadata": {
        "id": "JzwdMpuf7mPj"
      }
    },
    {
      "cell_type": "code",
      "source": [
        "number=0\n",
        "n=input(\"Enter any number : \")\n",
        "print(\"Number you entered : \",n)\n",
        "for i in range(1,int(n)+1):\n",
        "  number+=i\n",
        "print(\"Sum value is : \",number)\n",
        "\n"
      ],
      "metadata": {
        "colab": {
          "base_uri": "https://localhost:8080/"
        },
        "id": "jqztvQhj7p3K",
        "outputId": "36608316-326b-453e-96d2-2d72f97e3fd8"
      },
      "execution_count": null,
      "outputs": [
        {
          "output_type": "stream",
          "name": "stdout",
          "text": [
            "Enter any number : 10\n",
            "Number you entered :  10\n",
            "Sum value is :  55\n"
          ]
        }
      ]
    },
    {
      "cell_type": "markdown",
      "source": [
        "5 .Calculate the factorial of a number using a loop."
      ],
      "metadata": {
        "id": "rN9FrTGbA6mZ"
      }
    },
    {
      "cell_type": "code",
      "source": [
        "number=1\n",
        "num=input(\"Enter any Number : \")\n",
        "print(\"Entered Number is : \",num)\n",
        "n=int(num)\n",
        "if n<0:\n",
        " print(\"Factorial is negative\")\n",
        "elif n==0:\n",
        "  print(\"Factorial of 0 is : 1\")\n",
        "else :\n",
        " for i in range(1,n+1):\n",
        "  number*=i\n",
        "print(\"Factorial of the Number is : \",number)"
      ],
      "metadata": {
        "colab": {
          "base_uri": "https://localhost:8080/"
        },
        "id": "zzdCLEPnBArS",
        "outputId": "6c164449-a010-400c-f655-ceb68507cef3"
      },
      "execution_count": null,
      "outputs": [
        {
          "output_type": "stream",
          "name": "stdout",
          "text": [
            "Enter any Number : 5\n",
            "Entered Number is :  5\n",
            "Factorial of the Number is :  120\n"
          ]
        }
      ]
    },
    {
      "cell_type": "markdown",
      "source": [
        "6 .Write a Python program to find the largest of three numbers."
      ],
      "metadata": {
        "id": "OkV3XjdZFwr0"
      }
    },
    {
      "cell_type": "code",
      "source": [
        "number=0\n",
        "n=input(\"Enter 3 numbers : \")\n",
        "print(\"3 number you Entered : \",n)\n",
        "number = [int(i) for i in n.split(\",\")]\n",
        "if len(number)!=3:\n",
        "  print(\"******ERROR******\")\n",
        "else:\n",
        "  large=max(number)\n",
        "  print(\"The large number is : \",large)\n",
        "\n",
        "\n",
        "\n"
      ],
      "metadata": {
        "colab": {
          "base_uri": "https://localhost:8080/"
        },
        "id": "8k3tlWJ9F5Z5",
        "outputId": "c9d42231-4532-43b1-da30-f9f757f5b857"
      },
      "execution_count": null,
      "outputs": [
        {
          "output_type": "stream",
          "name": "stdout",
          "text": [
            "Enter 3 numbers : 1,2,3\n",
            "3 number you Entered :  1,2,3\n",
            "The large number is :  3\n"
          ]
        }
      ]
    },
    {
      "cell_type": "markdown",
      "source": [
        "7 .Convert temperature from Celsius to Fahrenheit."
      ],
      "metadata": {
        "id": "Zk_JIjJQMdlx"
      }
    },
    {
      "cell_type": "code",
      "source": [
        "n=input(\"Enter the Temperature in Celsius : \")\n",
        "print(\"The Temperature you Entered : \",n)\n",
        "formula=((int(n)*(9/5))+32)\n",
        "print(\"The Fahrenheit of the temperature is : \",formula)\n"
      ],
      "metadata": {
        "id": "NQj5LlyoMsG8",
        "colab": {
          "base_uri": "https://localhost:8080/"
        },
        "outputId": "54abc412-d469-4ddb-c68d-bc208336fb43"
      },
      "execution_count": 2,
      "outputs": [
        {
          "output_type": "stream",
          "name": "stdout",
          "text": [
            "Enter the Temperature in Celsius : 0\n",
            "The Temperature you Entered :  0\n",
            "The Fahrenheit of the temperature is :  32.0\n"
          ]
        }
      ]
    },
    {
      "cell_type": "markdown",
      "source": [
        "8 .Check if a number is a prime number"
      ],
      "metadata": {
        "id": "toZG1DPux5U1"
      }
    },
    {
      "cell_type": "code",
      "source": [
        "import math\n",
        "\n",
        "n=input(\"Number you Entered : \")\n",
        "print(\"Entered number is : \",n)\n",
        "root=int(n)\n",
        "if(root<1):\n",
        "  print(\" It is Not a Prime Number \")\n",
        "else:\n",
        "  for i in range(2,int(math.sqrt(root))+1):\n",
        "    if(root%i==0):\n",
        "      print(\"It is Not a Prime Number\")\n",
        "      break\n",
        "  else:\n",
        "    print(\"It is a Prime Number\")\n",
        "\n"
      ],
      "metadata": {
        "colab": {
          "base_uri": "https://localhost:8080/"
        },
        "id": "Xwjhktrix-Ns",
        "outputId": "45f9cee2-b03a-4df2-f372-6c848ca0ebd3"
      },
      "execution_count": 12,
      "outputs": [
        {
          "output_type": "stream",
          "name": "stdout",
          "text": [
            "Number you Entered : 7\n",
            "Entered number is :  7\n",
            "It is a Prime Number\n"
          ]
        }
      ]
    },
    {
      "cell_type": "markdown",
      "source": [
        "9 .Write a program to calculate the area of a circle"
      ],
      "metadata": {
        "id": "juulPVLH3Wm6"
      }
    },
    {
      "cell_type": "code",
      "source": [
        "import math\n",
        "\n",
        "n =input(\"Enter the Radius of the circle : \")\n",
        "print(\" The Radius you Entered is : \",n)\n",
        "radius=int(n)\n",
        "square=math.pow(radius,2)\n",
        "pi=math.pi\n",
        "Area=pi*square\n",
        "print(f\" Area of the number {radius} is : \",Area)\n"
      ],
      "metadata": {
        "colab": {
          "base_uri": "https://localhost:8080/"
        },
        "id": "-_bRD_Rp3eGy",
        "outputId": "53efd2ed-2310-4fb0-b7ff-ef888d08fa87"
      },
      "execution_count": 14,
      "outputs": [
        {
          "output_type": "stream",
          "name": "stdout",
          "text": [
            "Enter the Radius of the circle : 5\n",
            " The Radius you Entered is :  5\n",
            " Area of the number 5 is :  78.53981633974483\n"
          ]
        }
      ]
    },
    {
      "cell_type": "markdown",
      "source": [
        "10 .Count the number of digits in a given number."
      ],
      "metadata": {
        "id": "uHlnT21Y6Dqr"
      }
    },
    {
      "cell_type": "code",
      "source": [
        "n=input(\"Enter the numbers and separate it with , : \")\n",
        "print(\"Numbers You Entered\",n)\n",
        "lenn=len(n)\n",
        "print(\"Count of the number is : \",lenn)\n"
      ],
      "metadata": {
        "colab": {
          "base_uri": "https://localhost:8080/"
        },
        "id": "tizkRQTz6KDh",
        "outputId": "07854a68-6f6d-49d6-8ca9-5c87f4385f52"
      },
      "execution_count": 22,
      "outputs": [
        {
          "output_type": "stream",
          "name": "stdout",
          "text": [
            "Enter the numbers and separate it with , : 12\n",
            "Numbers You Entered 12\n",
            "Count of the number is :  2\n"
          ]
        }
      ]
    },
    {
      "cell_type": "markdown",
      "source": [
        "11 .Write a Python program to reverse the digits of a number."
      ],
      "metadata": {
        "id": "uISkUkEg8N9r"
      }
    },
    {
      "cell_type": "code",
      "source": [
        "n=input(\"Enter any numer : \")\n",
        "print(\"Number you Entered is : \",n)\n",
        "reverse=int(str(n)[::-1])\n",
        "print(\"The reversed number is : \",reverse)"
      ],
      "metadata": {
        "colab": {
          "base_uri": "https://localhost:8080/"
        },
        "id": "Mx-RNntN7vSW",
        "outputId": "6b046a0c-17c4-48a6-c2b6-287e46b6b9dd"
      },
      "execution_count": 26,
      "outputs": [
        {
          "output_type": "stream",
          "name": "stdout",
          "text": [
            "Enter any numer : 87562491\n",
            "Number you Entered is :  87562491\n",
            "The reversed number is :  19426578\n"
          ]
        }
      ]
    }
  ]
}